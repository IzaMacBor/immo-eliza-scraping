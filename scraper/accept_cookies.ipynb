{
 "cells": [
  {
   "cell_type": "code",
   "execution_count": null,
   "metadata": {},
   "outputs": [],
   "source": [
    "from selenium import webdriver\n",
    "from selenium.webdriver.common.keys import Keys\n",
    "from selenium.webdriver.common.by import By\n",
    "from selenium.webdriver.support.ui import WebDriverWait\n",
    "from selenium.webdriver.support import expected_conditions as EC\n",
    "from selenium.webdriver.chrome.service import Service\n",
    "from webdriver_manager.chrome import ChromeDriverManager\n",
    "import time\n",
    "import requests\n",
    "from bs4 import BeautifulSoup\n",
    "\n",
    "service = Service(executable_path=r\"C:\\users\\izama\\desktop\\repo\\immo-eliza-scraping\\chromedriver.exe\")\n",
    "driver = webdriver.Chrome(service=service)\n",
    "\n",
    "try:\n",
    "    driver.get(\"https://www.immoweb.be/\")\n",
    "    print(driver.page_source)\n",
    "    WebDriverWait(driver, 30).until(EC.presence_of_element_located((By.TAG_NAME, \"body\")))\n",
    "    time.sleep(5)\n",
    "    \n",
    "    shadow_host = WebDriverWait(driver, 60).until(\n",
    "        EC.presence_of_element_located((By.CSS_SELECTOR, \"usercentrics-root\"))\n",
    "    )\n",
    "\n",
    "    shadow_root = driver.execute_script('retur arguments[0].shadowRoot', shadow_host)\n",
    "\n",
    "    accept_button = WebDriverWait(driver, 30).until(\n",
    "        lambda d: shadow_root.find_element(By.CSS_SELECTOR, \"button[data-testid='uc-accept-all-button']\")\n",
    "    )\n",
    "\n",
    "    accept_button.click()\n",
    "\n",
    "    WebDriverWait(driver, 30).until(EC.staleness_of(accept_button))\n",
    "\n",
    "    search_button = WebDriverWait(driver,30).until(\n",
    "        EC.element_to_be_clickable((By.ID, 'searchBoxSubmitButton'))\n",
    "    )\n",
    "    search_button.click()\n",
    "\n",
    "    time.sleep(15)\n",
    "\n",
    "finally:\n",
    "    driver.quit"
   ]
  }
 ],
 "metadata": {
  "kernelspec": {
   "display_name": ".venv",
   "language": "python",
   "name": "python3"
  },
  "language_info": {
   "codemirror_mode": {
    "name": "ipython",
    "version": 3
   },
   "file_extension": ".py",
   "mimetype": "text/x-python",
   "name": "python",
   "nbconvert_exporter": "python",
   "pygments_lexer": "ipython3",
   "version": "3.12.6"
  }
 },
 "nbformat": 4,
 "nbformat_minor": 2
}
